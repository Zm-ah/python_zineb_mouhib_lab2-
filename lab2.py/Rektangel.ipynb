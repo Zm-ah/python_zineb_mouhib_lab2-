{
 "cells": [
  {
   "cell_type": "code",
   "execution_count": 2,
   "id": "f95b8e3b",
   "metadata": {},
   "outputs": [],
   "source": [
    "from math import pi \n",
    "\n",
    "class Rectangle: # creat rec. class \n",
    "    def __init__(self,width, height, x = 0, y = 0 ):\n",
    "        self._width = width \n",
    "        self._height = height \n",
    "        self.x = x\n",
    "        self.y = y \n",
    "\n",
    "# read-only proprerty \n",
    "    @property    \n",
    "    def area(self):\n",
    "        return self.width * self.height\n",
    "    \n",
    "    @property\n",
    "    def perimeter(self):\n",
    "        return 2 * (self.width * self.height) \n",
    "     \n",
    "    \n",
    "    \n",
    "\n",
    "\n",
    "\n"
   ]
  }
 ],
 "metadata": {
  "kernelspec": {
   "display_name": "python_zineb_mouhib_lab2- (3.12.10)",
   "language": "python",
   "name": "python3"
  },
  "language_info": {
   "codemirror_mode": {
    "name": "ipython",
    "version": 3
   },
   "file_extension": ".py",
   "mimetype": "text/x-python",
   "name": "python",
   "nbconvert_exporter": "python",
   "pygments_lexer": "ipython3",
   "version": "3.12.10"
  }
 },
 "nbformat": 4,
 "nbformat_minor": 5
}
