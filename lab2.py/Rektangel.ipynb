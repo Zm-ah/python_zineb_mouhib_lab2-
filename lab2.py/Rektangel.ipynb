{
 "cells": [
  {
   "cell_type": "code",
   "execution_count": null,
   "id": "f95b8e3b",
   "metadata": {},
   "outputs": [],
   "source": [
    "from math import pi \n",
    "\n",
    "class Rectangle: # creat rec. class \n",
    "    def __init__(self,width, height, x = 0, y = 0 ):\n",
    "        self._width = width \n",
    "        self._height = height \n",
    "        self.x = x\n",
    "        self.y = y \n",
    "\n",
    "# read-only proprerty \n",
    "    @property    \n",
    "    def area(self):\n",
    "        return self.width * self.height\n",
    "    \n",
    "    @property\n",
    "    def perimeter(self):\n",
    "        return 2 * (self.width * self.height) \n",
    "     \n",
    "    #@property \n",
    "    #def center(self):\n",
    "     #   return(self.x, self.y)\n",
    "    \n",
    "     \n",
    "    def __eq__(self, other): # equale to  c.o \n",
    "        return self.area == other. area\n",
    "    \n",
    "    def __le__(self,other): # less than or equale to  c.o \n",
    "        return self.area <= other.area\n",
    "    \n",
    "    def __ge__(self, other): # greater than or equale to c.o\n",
    "        return self.area >= other.area\n",
    "\n",
    "    def __lt__(self, other): # less than c.o \n",
    "        return self.area < other.area \n",
    "    \n",
    "    def __gt__(self, other): #great than c.o \n",
    "        return self.area > other.area \n",
    "    \n",
    "\n",
    "    \n",
    "        \n",
    "\n",
    "\n",
    "\n"
   ]
  }
 ],
 "metadata": {
  "kernelspec": {
   "display_name": "python_zineb_mouhib_lab2- (3.12.10)",
   "language": "python",
   "name": "python3"
  },
  "language_info": {
   "codemirror_mode": {
    "name": "ipython",
    "version": 3
   },
   "file_extension": ".py",
   "mimetype": "text/x-python",
   "name": "python",
   "nbconvert_exporter": "python",
   "pygments_lexer": "ipython3",
   "version": "3.12.10"
  }
 },
 "nbformat": 4,
 "nbformat_minor": 5
}
