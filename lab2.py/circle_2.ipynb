{
 "cells": [
  {
   "cell_type": "markdown",
   "id": "6ee546a6",
   "metadata": {},
   "source": [
    "# the second circle "
   ]
  }
 ],
 "metadata": {
  "language_info": {
   "name": "python"
  }
 },
 "nbformat": 4,
 "nbformat_minor": 5
}
