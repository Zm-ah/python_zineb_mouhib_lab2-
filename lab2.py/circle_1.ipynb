{
 "cells": [
  {
   "cell_type": "markdown",
   "id": "f271b035",
   "metadata": {},
   "source": [
    "# The first circle "
   ]
  }
 ],
 "metadata": {
  "kernelspec": {
   "display_name": "python_zineb_mouhib_lab2- (3.12.10)",
   "language": "python",
   "name": "python3"
  },
  "language_info": {
   "name": "python",
   "version": "3.12.10"
  }
 },
 "nbformat": 4,
 "nbformat_minor": 5
}
