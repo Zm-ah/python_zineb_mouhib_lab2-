{
 "cells": [
  {
   "cell_type": "markdown",
   "id": "1edc7874",
   "metadata": {},
   "source": [
    "# the first circle "
   ]
  }
 ],
 "metadata": {
  "kernelspec": {
   "display_name": "python_zineb_mouhib_lab2- (3.12.10)",
   "language": "python",
   "name": "python3"
  },
  "language_info": {
   "name": "python",
   "version": "3.12.10"
  }
 },
 "nbformat": 4,
 "nbformat_minor": 5
}
